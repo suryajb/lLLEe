{
 "cells": [
  {
   "cell_type": "code",
   "execution_count": 1,
   "id": "quality-period",
   "metadata": {},
   "outputs": [],
   "source": [
    "import pandas as pd\n",
    "import glob\n",
    "import os\n",
    "from matplotlib import pyplot as plt\n",
    "import pandas as pd\n",
    "import numpy as np\n",
    "from scipy import signal\n",
    "import pdb\n",
    "import time\n",
    "import calendar\n",
    "import pyfftw\n",
    "from comb_utils import *\n",
    "from tqdm.notebook import tqdm"
   ]
  },
  {
   "cell_type": "code",
   "execution_count": 2,
   "id": "guilty-light",
   "metadata": {},
   "outputs": [],
   "source": [
    "df = pd.read_csv('coupling_q_1.csv')"
   ]
  },
  {
   "cell_type": "code",
   "execution_count": 12,
   "id": "warming-birmingham",
   "metadata": {
    "collapsed": true,
    "jupyter": {
     "outputs_hidden": true
    }
   },
   "outputs": [
    {
     "data": {
      "text/html": [
       "<div>\n",
       "<style scoped>\n",
       "    .dataframe tbody tr th:only-of-type {\n",
       "        vertical-align: middle;\n",
       "    }\n",
       "\n",
       "    .dataframe tbody tr th {\n",
       "        vertical-align: top;\n",
       "    }\n",
       "\n",
       "    .dataframe thead th {\n",
       "        text-align: right;\n",
       "    }\n",
       "</style>\n",
       "<table border=\"1\" class=\"dataframe\">\n",
       "  <thead>\n",
       "    <tr style=\"text-align: right;\">\n",
       "      <th></th>\n",
       "      <th>lambda</th>\n",
       "      <th>Qc</th>\n",
       "    </tr>\n",
       "  </thead>\n",
       "  <tbody>\n",
       "    <tr>\n",
       "      <th>0</th>\n",
       "      <td>1.000000</td>\n",
       "      <td>1.921538e+08</td>\n",
       "    </tr>\n",
       "    <tr>\n",
       "      <th>1</th>\n",
       "      <td>1.071429</td>\n",
       "      <td>1.051074e+08</td>\n",
       "    </tr>\n",
       "    <tr>\n",
       "      <th>2</th>\n",
       "      <td>1.142857</td>\n",
       "      <td>6.118730e+07</td>\n",
       "    </tr>\n",
       "    <tr>\n",
       "      <th>3</th>\n",
       "      <td>1.214286</td>\n",
       "      <td>3.746499e+07</td>\n",
       "    </tr>\n",
       "    <tr>\n",
       "      <th>4</th>\n",
       "      <td>1.285714</td>\n",
       "      <td>2.391156e+07</td>\n",
       "    </tr>\n",
       "  </tbody>\n",
       "</table>\n",
       "</div>"
      ],
      "text/plain": [
       "     lambda            Qc\n",
       "0  1.000000  1.921538e+08\n",
       "1  1.071429  1.051074e+08\n",
       "2  1.142857  6.118730e+07\n",
       "3  1.214286  3.746499e+07\n",
       "4  1.285714  2.391156e+07"
      ]
     },
     "execution_count": 12,
     "metadata": {},
     "output_type": "execute_result"
    }
   ],
   "source": [
    "df[['lambda','Qc']].head()"
   ]
  },
  {
   "cell_type": "code",
   "execution_count": 14,
   "id": "featured-flower",
   "metadata": {
    "collapsed": true,
    "jupyter": {
     "outputs_hidden": true
    }
   },
   "outputs": [
    {
     "data": {
      "text/plain": [
       "[<matplotlib.lines.Line2D at 0x7f48588ce190>]"
      ]
     },
     "execution_count": 14,
     "metadata": {},
     "output_type": "execute_result"
    },
    {
     "data": {
      "image/png": "[encoded data removed]",
      "text/plain": [
       "<Figure size 432x288 with 1 Axes>"
      ]
     },
     "metadata": {
      "needs_background": "light"
     },
     "output_type": "display_data"
    }
   ],
   "source": [
    "plt.plot(3e2/df['lambda'],np.log10(df['Qc']))"
   ]
  },
  {
   "cell_type": "code",
   "execution_count": 16,
   "id": "satisfactory-audience",
   "metadata": {
    "collapsed": true,
    "jupyter": {
     "outputs_hidden": true
    }
   },
   "outputs": [
    {
     "data": {
      "text/plain": [
       "[<matplotlib.lines.Line2D at 0x7f485887b100>]"
      ]
     },
     "execution_count": 16,
     "metadata": {},
     "output_type": "execute_result"
    },
    {
     "data": {
      "image/png": "[encoded data removed]",
      "text/plain": [
       "<Figure size 432x288 with 1 Axes>"
      ]
     },
     "metadata": {
      "needs_background": "light"
     },
     "output_type": "display_data"
    }
   ],
   "source": [
    "plt.plot(df['lambda'],np.log10(df['Qc']))"
   ]
  },
  {
   "cell_type": "code",
   "execution_count": 23,
   "id": "precise-willow",
   "metadata": {},
   "outputs": [],
   "source": [
    "def PolyCoefficients(x, coeffs):\n",
    "        \"\"\" Returns a polynomial for ``x`` values for the ``coeffs`` provided.\n",
    "\n",
    "        The coefficients must be in ascending order (``x**0`` to ``x**o``).\n",
    "        \"\"\"\n",
    "        o = len(coeffs)\n",
    "        print(f'Dint is a polynomial of order {o-1}.')\n",
    "        y = 0\n",
    "        coeffs = coeffs[::-1]\n",
    "        for i in range(o):\n",
    "            y += coeffs[i]*x**i\n",
    "        return y"
   ]
  },
  {
   "cell_type": "code",
   "execution_count": 21,
   "id": "systematic-communist",
   "metadata": {},
   "outputs": [],
   "source": [
    "coeffs = np.polyfit(3e2/df['lambda'],df['Qc'],deg=9)"
   ]
  },
  {
   "cell_type": "code",
   "execution_count": 24,
   "id": "incorporate-samoa",
   "metadata": {},
   "outputs": [
    {
     "name": "stdout",
     "output_type": "stream",
     "text": [
      "Dint is a polynomial of order 9.\n"
     ]
    }
   ],
   "source": [
    "fittedy = PolyCoefficients(3e2/df['lambda'], np.polyfit(3e2/df['lambda'],df['Qc'],deg=9))"
   ]
  },
  {
   "cell_type": "code",
   "execution_count": 26,
   "id": "seeing-hamilton",
   "metadata": {},
   "outputs": [
    {
     "data": {
      "text/plain": [
       "0     -0.120957\n",
       "1      1.835016\n",
       "2    -11.298222\n",
       "3     35.675048\n",
       "4    -57.588397\n",
       "5     30.614194\n",
       "6     35.219137\n",
       "7    -37.272772\n",
       "8    -39.435832\n",
       "9     54.618734\n",
       "10    20.766258\n",
       "11   -50.679936\n",
       "12    10.156196\n",
       "13    12.685217\n",
       "14    -5.173817\n",
       "dtype: float64"
      ]
     },
     "execution_count": 26,
     "metadata": {},
     "output_type": "execute_result"
    }
   ],
   "source": [
    "fittedy - df['Qc']"
   ]
  },
  {
   "cell_type": "code",
   "execution_count": 4,
   "id": "ordered-tournament",
   "metadata": {},
   "outputs": [
    {
     "name": "stdout",
     "output_type": "stream",
     "text": [
      "ω_start = 150.0012 THz, ω_end = 149.997 THz\n",
      "λ_start = 1998.600397863484 nm, λ_end = 1998.6563597938623 nm\n",
      "normalized detunings = [ -8 , 20 ] (relevant parameters: δnorm_range)\n",
      "sweep speed (ω space) = 4200000.0 GHz/s \n",
      "sweep speed (λ space) = 55961.93037847607 nm/s\n",
      "real time = 1e-06, normalized time = 150.0 (relevant parameters: total_time), dt = 0.001\n",
      "Simulation points = 10000000.0 (relevant parameters: dt)\n",
      "detuning at start = -1.2 GHz, detuning at end = 3.0 GHz (relevant parametes: ω_range, λ_range)\n",
      "Dint is a polynomial of order 9.\n",
      "g0 = 0.3149395767577133, Veff = 7.037167544041137e-16, F^2 = 28.166146158423505\n"
     ]
    },
    {
     "data": {
      "image/png": "[encoded data removed]",
      "text/plain": [
       "<Figure size 288x144 with 1 Axes>"
      ]
     },
     "metadata": {
      "needs_background": "light"
     },
     "output_type": "display_data"
    }
   ],
   "source": [
    "B = microring(R=80e-6,height=1e-6,width=1.4e-6,ng=2.2,Qc=1e6,Qi=1e6,n2=2.4e-19,\n",
    "                δnorm_range=[-8,20],ω_range=[],λ_range=[],ω0=3e8/2e-6,λ0=None,\n",
    "                total_time=1e-6,ω_sweep_speed=None,λ_sweep_speed=None,Dint_file='new_shg_100R_1umto2um.csv',dt=1e-3,\n",
    "                Nmodes=2**7,pump=200e-3,snapshots=2000,mode_offset=0,Dint_degrees=9)"
   ]
  },
  {
   "cell_type": "code",
   "execution_count": 3,
   "id": "substantial-ontario",
   "metadata": {
    "collapsed": true,
    "jupyter": {
     "outputs_hidden": true
    }
   },
   "outputs": [
    {
     "data": {
      "text/plain": [
       "array([1.24433320e+07, 1.27280562e+07, 1.30228185e+07, 1.33281222e+07,\n",
       "       1.36445042e+07, 1.39725374e+07, 1.43128344e+07, 1.46660504e+07,\n",
       "       1.50328873e+07, 1.54140977e+07, 1.58104898e+07, 1.62229321e+07,\n",
       "       1.66523597e+07, 1.70997804e+07, 1.75662821e+07, 1.80530404e+07,\n",
       "       1.85613282e+07, 1.90925257e+07, 1.96481316e+07, 2.02297766e+07,\n",
       "       2.08392376e+07, 2.14784548e+07, 2.21495508e+07, 2.28548524e+07,\n",
       "       2.35969156e+07, 2.43785547e+07, 2.52028751e+07, 2.60733127e+07,\n",
       "       2.69936784e+07, 2.79682104e+07, 2.90016362e+07, 3.00992449e+07,\n",
       "       3.12669728e+07, 3.25115058e+07, 3.38404009e+07, 3.52622328e+07,\n",
       "       3.67867711e+07, 3.84251952e+07, 4.01903586e+07, 4.20971134e+07,\n",
       "       4.41627141e+07, 4.64073239e+07, 4.88546537e+07, 5.15327776e+07,\n",
       "       5.44751847e+07, 5.77221496e+07, 6.13225419e+07, 6.53362478e+07,\n",
       "       6.98374576e+07, 7.49192072e+07, 8.06997659e+07, 8.73318108e+07,\n",
       "       9.50159195e+07, 1.04020951e+08, 1.14715799e+08, 1.27620686e+08,\n",
       "       1.43493625e+08, 1.63483797e+08, 1.89421251e+08, 2.24408805e+08,\n",
       "       2.74161398e+08, 3.50487548e+08, 4.82362675e+08, 7.64936267e+08,\n",
       "       4.14425991e+06, 4.20172407e+06, 4.26029447e+06, 4.31999988e+06,\n",
       "       4.38087006e+06, 4.44293576e+06, 4.50622877e+06, 4.57078197e+06,\n",
       "       4.63662936e+06, 4.70380614e+06, 4.77234874e+06, 4.84229484e+06,\n",
       "       4.91368352e+06, 4.98655520e+06, 5.06095179e+06, 5.13691673e+06,\n",
       "       5.21449505e+06, 5.29373343e+06, 5.37468033e+06, 5.45738600e+06,\n",
       "       5.54190262e+06, 5.62828437e+06, 5.71658751e+06, 5.80687050e+06,\n",
       "       5.89919412e+06, 5.99362155e+06, 6.09021850e+06, 6.18905335e+06,\n",
       "       6.29019726e+06, 6.39372433e+06, 6.49971175e+06, 6.60823995e+06,\n",
       "       6.71939278e+06, 6.83325769e+06, 6.94992589e+06, 7.06949261e+06,\n",
       "       7.19205727e+06, 7.31772375e+06, 7.44660059e+06, 7.57880131e+06,\n",
       "       7.71444463e+06, 7.85365483e+06, 7.99656204e+06, 8.14330259e+06,\n",
       "       8.29401935e+06, 8.44886220e+06, 8.60798837e+06, 8.77156296e+06,\n",
       "       8.93975938e+06, 9.11275991e+06, 9.29075625e+06, 9.47395015e+06,\n",
       "       9.66255404e+06, 9.85679175e+06, 1.00568993e+07, 1.02631256e+07,\n",
       "       1.04757338e+07, 1.06950014e+07, 1.09212223e+07, 1.11547071e+07,\n",
       "       1.13957852e+07, 1.16448051e+07, 1.19021370e+07, 1.21681735e+07])"
      ]
     },
     "execution_count": 3,
     "metadata": {},
     "output_type": "execute_result"
    }
   ],
   "source": [
    "B.Δωext"
   ]
  },
  {
   "cell_type": "code",
   "execution_count": 3,
   "id": "plastic-titanium",
   "metadata": {},
   "outputs": [
    {
     "name": "stdout",
     "output_type": "stream",
     "text": [
      "ω_start = 193.41602939368178 THz, ω_end = 193.41063812869876 THz\n",
      "λ_start = 1549.987655830728 nm, λ_end = 1550.0308612834056 nm\n",
      "normalized detunings = [ -8 , 20 ] (relevant parameters: δnorm_range)\n",
      "sweep speed (ω space) = 5391264.98303125 GHz/s \n",
      "sweep speed (λ space) = 43205.45267761931 nm/s\n",
      "real time = 1e-06, normalized time = 192.54517796539992 (relevant parameters: total_time), dt = 0.001\n",
      "Simulation points = 3209086.0 (relevant parameters: dt)\n",
      "detuning at start = -1.54036142371875 GHz, detuning at end = 3.8509035593125 GHz (relevant parametes: ω_range, λ_range)\n",
      "Dint is a polynomial of order 9.\n",
      "g0 = 1.0199359714377958, Veff = 3.6128315516282617e-16, F^2 = 10.684824048461044\n"
     ]
    },
    {
     "data": {
      "image/png": "[encoded data removed]",
      "text/plain": [
       "<Figure size 648x144 with 2 Axes>"
      ]
     },
     "metadata": {
      "needs_background": "light"
     },
     "output_type": "display_data"
    }
   ],
   "source": [
    "A = microring(R=25e-6,height=1e-6,width=2.3e-6,ng=2.2,Qc=1e6,Qi=1e6,n2=2.4e-19,\n",
    "                δnorm_range=[-8,20],ω_range=[],λ_range=[],ω0=299792458/1.550e-6,λ0=None,\n",
    "                total_time=1e-6,ω_sweep_speed=None,λ_sweep_speed=None,Qc_import=10**np.linspace(5,7,2**8),\n",
    "                Dint_file='2.300w_58.5r_0.960h.csv',dt=1e-3,\n",
    "                Nmodes=2**8,pump=50e-3,snapshots=2000,mode_offset=0,Dint_degrees=9)"
   ]
  },
  {
   "cell_type": "code",
   "execution_count": 5,
   "id": "pending-newsletter",
   "metadata": {
    "collapsed": true,
    "jupyter": {
     "outputs_hidden": true
    }
   },
   "outputs": [
    {
     "data": {
      "text/plain": [
       "array([1.91674712e+08, 1.88244213e+08, 1.84875111e+08, 1.81566309e+08,\n",
       "       1.78316725e+08, 1.75125301e+08, 1.71990995e+08, 1.68912786e+08,\n",
       "       1.65889669e+08, 1.62920658e+08, 1.60004785e+08, 1.57141099e+08,\n",
       "       1.54328666e+08, 1.51566568e+08, 1.48853905e+08, 1.46189792e+08,\n",
       "       1.43573360e+08, 1.41003755e+08, 1.38480140e+08, 1.36001691e+08,\n",
       "       1.33567600e+08, 1.31177074e+08, 1.28829332e+08, 1.26523608e+08,\n",
       "       1.24259152e+08, 1.22035223e+08, 1.19851098e+08, 1.17706062e+08,\n",
       "       1.15599418e+08, 1.13530477e+08, 1.11498565e+08, 1.09503019e+08,\n",
       "       1.07543188e+08, 1.05618434e+08, 1.03728127e+08, 1.01871653e+08,\n",
       "       1.00048405e+08, 9.82577881e+07, 9.64992190e+07, 9.47721240e+07,\n",
       "       9.30759396e+07, 9.14101127e+07, 8.97741000e+07, 8.81673677e+07,\n",
       "       8.65893920e+07, 8.50396581e+07, 8.35176606e+07, 8.20229030e+07,\n",
       "       8.05548979e+07, 7.91131663e+07, 7.76972382e+07, 7.63066517e+07,\n",
       "       7.49409532e+07, 7.35996972e+07, 7.22824464e+07, 7.09887711e+07,\n",
       "       6.97182494e+07, 6.84704668e+07, 6.72450164e+07, 6.60414986e+07,\n",
       "       6.48595206e+07, 6.36986972e+07, 6.25586496e+07, 6.14390060e+07,\n",
       "       6.03394012e+07, 5.92594766e+07, 5.81988799e+07, 5.71572653e+07,\n",
       "       5.61342930e+07, 5.51296293e+07, 5.41429466e+07, 5.31739230e+07,\n",
       "       5.22222426e+07, 5.12875949e+07, 5.03696750e+07, 4.94681836e+07,\n",
       "       4.85828266e+07, 4.77133153e+07, 4.68593661e+07, 4.60207005e+07,\n",
       "       4.51970449e+07, 4.43881306e+07, 4.35936939e+07, 4.28134757e+07,\n",
       "       4.20472214e+07, 4.12946811e+07, 4.05556094e+07, 3.98297653e+07,\n",
       "       3.91169119e+07, 3.84168169e+07, 3.77292518e+07, 3.70539924e+07,\n",
       "       3.63908185e+07, 3.57395137e+07, 3.50998656e+07, 3.44716657e+07,\n",
       "       3.38547089e+07, 3.32487942e+07, 3.26537238e+07, 3.20693037e+07,\n",
       "       3.14953432e+07, 3.09316552e+07, 3.03780558e+07, 2.98343645e+07,\n",
       "       2.93004039e+07, 2.87759998e+07, 2.82609813e+07, 2.77551803e+07,\n",
       "       2.72584318e+07, 2.67705740e+07, 2.62914476e+07, 2.58208963e+07,\n",
       "       2.53587667e+07, 2.49049081e+07, 2.44591725e+07, 2.40214144e+07,\n",
       "       2.35914910e+07, 2.31692622e+07, 2.27545903e+07, 2.23473400e+07,\n",
       "       2.19473784e+07, 2.15545751e+07, 2.11688020e+07, 2.07899333e+07,\n",
       "       2.04178454e+07, 2.00524170e+07, 1.96935288e+07, 1.93410638e+07,\n",
       "       1.93416029e+09, 1.89954365e+09, 1.86554657e+09, 1.83215794e+09,\n",
       "       1.79936689e+09, 1.76716271e+09, 1.73553492e+09, 1.70447317e+09,\n",
       "       1.67396736e+09, 1.64400752e+09, 1.61458390e+09, 1.58568688e+09,\n",
       "       1.55730704e+09, 1.52943513e+09, 1.50206206e+09, 1.47517890e+09,\n",
       "       1.44877688e+09, 1.42284740e+09, 1.39738198e+09, 1.37237233e+09,\n",
       "       1.34781029e+09, 1.32368786e+09, 1.29999715e+09, 1.27673045e+09,\n",
       "       1.25388016e+09, 1.23143883e+09, 1.20939915e+09, 1.18775393e+09,\n",
       "       1.16649610e+09, 1.14561873e+09, 1.12511502e+09, 1.10497827e+09,\n",
       "       1.08520192e+09, 1.06577951e+09, 1.04670472e+09, 1.02797132e+09,\n",
       "       1.00957320e+09, 9.91504361e+08, 9.73758908e+08, 9.56331056e+08,\n",
       "       9.39215118e+08, 9.22405512e+08, 9.05896757e+08, 8.89683467e+08,\n",
       "       8.73760355e+08, 8.58122226e+08, 8.42763981e+08, 8.27680610e+08,\n",
       "       8.12867194e+08, 7.98318901e+08, 7.84030986e+08, 7.69998789e+08,\n",
       "       7.56217734e+08, 7.42683325e+08, 7.29391148e+08, 7.16336868e+08,\n",
       "       7.03516226e+08, 6.90925043e+08, 6.78559210e+08, 6.66414694e+08,\n",
       "       6.54487535e+08, 6.42773843e+08, 6.31269796e+08, 6.19971643e+08,\n",
       "       6.08875699e+08, 5.97978344e+08, 5.87276025e+08, 5.76765251e+08,\n",
       "       5.66442593e+08, 5.56304685e+08, 5.46348220e+08, 5.36569951e+08,\n",
       "       5.26966689e+08, 5.17535301e+08, 5.08272712e+08, 4.99175899e+08,\n",
       "       4.90241897e+08, 4.81467791e+08, 4.72850720e+08, 4.64387873e+08,\n",
       "       4.56076490e+08, 4.47913859e+08, 4.39897320e+08, 4.32024256e+08,\n",
       "       4.24292101e+08, 4.16698332e+08, 4.09240472e+08, 4.01916089e+08,\n",
       "       3.94722795e+08, 3.87658243e+08, 3.80720128e+08, 3.73906189e+08,\n",
       "       3.67214201e+08, 3.60641984e+08, 3.54187393e+08, 3.47848323e+08,\n",
       "       3.41622707e+08, 3.35508514e+08, 3.29503749e+08, 3.23606455e+08,\n",
       "       3.17814707e+08, 3.12126618e+08, 3.06540330e+08, 3.01054024e+08,\n",
       "       2.95665909e+08, 2.90374227e+08, 2.85177254e+08, 2.80073293e+08,\n",
       "       2.75060680e+08, 2.70137781e+08, 2.65302989e+08, 2.60554728e+08,\n",
       "       2.55891449e+08, 2.51311631e+08, 2.46813781e+08, 2.42396430e+08,\n",
       "       2.38058139e+08, 2.33797493e+08, 2.29613102e+08, 2.25503601e+08,\n",
       "       2.21467649e+08, 2.17503931e+08, 2.13611154e+08, 2.09788048e+08,\n",
       "       2.06033366e+08, 2.02345883e+08, 1.98724397e+08, 1.95167726e+08])"
      ]
     },
     "execution_count": 5,
     "metadata": {},
     "output_type": "execute_result"
    }
   ],
   "source": [
    "A.Δωext"
   ]
  },
  {
   "cell_type": "code",
   "execution_count": null,
   "id": "norwegian-noise",
   "metadata": {},
   "outputs": [],
   "source": []
  }
 ],
 "metadata": {
  "kernelspec": {
   "display_name": "Python 3",
   "language": "python",
   "name": "python3"
  },
  "language_info": {
   "codemirror_mode": {
    "name": "ipython",
    "version": 3
   },
   "file_extension": ".py",
   "mimetype": "text/x-python",
   "name": "python",
   "nbconvert_exporter": "python",
   "pygments_lexer": "ipython3",
   "version": "3.8.5"
  }
 },
 "nbformat": 4,
 "nbformat_minor": 5
}
