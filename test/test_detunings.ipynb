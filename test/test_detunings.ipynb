{
 "cells": [
  {
   "cell_type": "code",
   "execution_count": 1,
   "id": "familiar-frequency",
   "metadata": {},
   "outputs": [],
   "source": [
    "import pandas as pd\n",
    "import glob\n",
    "import os\n",
    "from matplotlib import pyplot as plt\n",
    "import pandas as pd\n",
    "import numpy as np\n",
    "from scipy import signal\n",
    "import pdb\n",
    "import time\n",
    "import calendar\n",
    "import pyfftw\n",
    "from tqdm.notebook import tqdm\n",
    "from comb_utils import *"
   ]
  },
  {
   "cell_type": "code",
   "execution_count": 2,
   "id": "reliable-monthly",
   "metadata": {},
   "outputs": [],
   "source": [
    "def transfer_mask(A,B):\n",
    "    # A modes to B modes\n",
    "    '''For each B mode, find one A mode that is closest in frequency to the specified B mode'''\n",
    "    ωA = A.ωarr_adjusted\n",
    "    ωB = B.ωarr_adjusted\n",
    "    Aidx = 0\n",
    "    mask = []\n",
    "    for ωb in ωB:\n",
    "        currDiff = np.abs(ωA[Aidx]-ωb)\n",
    "        while np.abs(ωA[Aidx]-ωb)<=currDiff:\n",
    "            currDiff = np.abs(ωA[Aidx]-ωb)\n",
    "            Aidx += 1 \n",
    "            if Aidx == len(ωA):\n",
    "                break\n",
    "        Aidx -= 1\n",
    "        mask.append(Aidx)\n",
    "    return np.array(mask)"
   ]
  },
  {
   "cell_type": "code",
   "execution_count": 30,
   "id": "minor-decision",
   "metadata": {},
   "outputs": [
    {
     "name": "stdout",
     "output_type": "stream",
     "text": [
      "ω_start = 193.4160363481703 THz, ω_end = 193.41062074247742 THz\n",
      "λ_start = 1549.9876000991992 nm, λ_end = 1550.0310006200125 nm\n",
      "normalized detunings = [ -8 , 20 ] (relevant parameters: δnorm_range)\n",
      "sweep speed (ω space) = 5415605.69290625 GHz/s \n",
      "sweep speed (λ space) = 43400.52081312755 nm/s\n",
      "real time = 1e-06, normalized time = 193.41448903225805 (relevant parameters: total_time), dt = 0.001\n",
      "Simulation points = 12894299.0 (relevant parameters: dt)\n",
      "detuning at start = -1.54731591225 GHz, detuning at end = 3.86828978065625 GHz (relevant parametes: ω_range, λ_range)\n",
      "Dint is a polynomial of order 9.\n",
      "g0 = 1.0199359714377958, Veff = 3.6128315516282617e-16, F^2 = 42.548069586909854\n"
     ]
    },
    {
     "data": {
      "image/png": "[encoded data removed]",
      "text/plain": [
       "<Figure size 288x144 with 1 Axes>"
      ]
     },
     "metadata": {
      "needs_background": "light"
     },
     "output_type": "display_data"
    },
    {
     "name": "stdout",
     "output_type": "stream",
     "text": [
      "ω_start = 150.0630991572229 THz, ω_end = 150.05889742406038 THz\n",
      "λ_start = 1997.7760001204815 nm, λ_end = 1997.8319389672617 nm\n",
      "normalized detunings = [ -8 , 20 ] (relevant parameters: δnorm_range)\n",
      "sweep speed (ω space) = 4201733.16253125 GHz/s \n",
      "sweep speed (λ space) = 55938.84678037003 nm/s\n",
      "real time = 1e-06, normalized time = 150.0618986620336 (relevant parameters: total_time), dt = 0.001\n",
      "Simulation points = 10004126.0 (relevant parameters: dt)\n",
      "detuning at start = -1.20049518928125 GHz, detuning at end = 3.00123797325 GHz (relevant parametes: ω_range, λ_range)\n",
      "g0 = 0.3151995548999483, Veff = 7.037167544041137e-16, F^2 = 28.154527974344838\n"
     ]
    },
    {
     "data": {
      "image/png": "[encoded data removed]",
      "text/plain": [
       "<Figure size 288x144 with 1 Axes>"
      ]
     },
     "metadata": {
      "needs_background": "light"
     },
     "output_type": "display_data"
    }
   ],
   "source": [
    "A = microring(R=25e-6,height=1e-6,width=2.3e-6,ng=2.2,Qc=1e6,Qi=1e6,n2=2.4e-19,\n",
    "                δnorm_range=[-8,20],ω_range=[],λ_range=[],ω0=299792458/1.550e-6,λ0=None,\n",
    "                total_time=1e-6,ω_sweep_speed=None,λ_sweep_speed=None,Qc_import=[],Dint_file='2.300w_58.5r_0.960h.csv',dt=1e-3,\n",
    "                Nmodes=2**8,pump=200e-3,snapshots=2000,mode_offset=15,Dint_degrees=9)\n",
    "\n",
    "D2 = 15e6 # Hz\n",
    "\n",
    "numModes = 2**7\n",
    "mode_offset = 10\n",
    "mu = np.arange(-numModes/2+mode_offset,numModes/2+mode_offset)\n",
    "Dint = mu**2*D2/2\n",
    "\n",
    "B = microring(R=80e-6,height=1e-6,width=1.4e-6,ng=2.2,Qc=1e6,Qi=1e6,n2=2.4e-19,\n",
    "                δnorm_range=[-8,20],ω_range=[],λ_range=[],ω0=A.ωarr_adjusted[63],λ0=None,\n",
    "                total_time=1e-6,ω_sweep_speed=None,λ_sweep_speed=None,Qc_import=[],Dint_file=None,dt=1e-3,\n",
    "                Nmodes=numModes,pump=200e-3,snapshots=2000,mode_offset=10,Dint_degrees=9,set_Dint=Dint)\n",
    "\n",
    "# B.Dint_arr = B.ifftshift(Dint,numModes//2)\n",
    "# B.plot_Dint()\n",
    "# plt.plot(B.ifftshift(Dint,numModes//2))"
   ]
  },
  {
   "cell_type": "code",
   "execution_count": 31,
   "id": "varying-underwear",
   "metadata": {},
   "outputs": [
    {
     "data": {
      "text/plain": [
       "150061898662033.62"
      ]
     },
     "execution_count": 31,
     "metadata": {},
     "output_type": "execute_result"
    }
   ],
   "source": [
    "A.ωarr_adjusted[63]"
   ]
  },
  {
   "cell_type": "code",
   "execution_count": 32,
   "id": "immune-roberts",
   "metadata": {},
   "outputs": [],
   "source": [
    "mask_AatB = transfer_mask(A,B) # A modes to use as pump terms for B equation\n",
    "mask_BatA = transfer_mask(B,A) # B modes to use as pump terms for A equation"
   ]
  },
  {
   "cell_type": "code",
   "execution_count": 33,
   "id": "searching-sharing",
   "metadata": {
    "collapsed": true,
    "jupyter": {
     "outputs_hidden": true
    }
   },
   "outputs": [
    {
     "data": {
      "text/plain": [
       "array([  0,   0,   0,   0,   0,   0,   0,   0,   0,   0,   0,   0,   0,\n",
       "         0,   0,   0,   0,   0,   0,   0,   0,   0,   0,   0,   0,   0,\n",
       "         0,   0,   0,   0,   0,   0,   0,   0,   0,   0,   0,   0,   0,\n",
       "         0,   0,   0,   0,   0,   0,   0,   0,   3,   6,   9,  12,  16,\n",
       "        19,  22,  25,  28,  32,  35,  38,  41,  44,  48,  51,  54,  57,\n",
       "        60,  64,  67,  70,  73,  76,  80,  83,  86,  89,  92,  96,  99,\n",
       "       102, 105, 108, 111, 115, 118, 121, 124, 127, 127, 127, 127, 127,\n",
       "       127, 127, 127, 127, 127, 127, 127, 127, 127, 127, 127, 127, 127,\n",
       "       127, 127, 127, 127, 127, 127, 127, 127, 127, 127, 127, 127, 127,\n",
       "       127, 127, 127, 127, 127, 127, 127, 127, 127, 127, 127, 127, 127,\n",
       "       127, 127, 127, 127, 127, 127, 127, 127, 127, 127, 127, 127, 127,\n",
       "       127, 127, 127, 127, 127, 127, 127, 127, 127, 127, 127, 127, 127,\n",
       "       127, 127, 127, 127, 127, 127, 127, 127, 127, 127, 127, 127, 127,\n",
       "       127, 127, 127, 127, 127, 127, 127, 127, 127, 127, 127, 127, 127,\n",
       "       127, 127, 127, 127, 127, 127, 127, 127, 127, 127, 127, 127, 127,\n",
       "       127, 127, 127, 127, 127, 127, 127, 127, 127, 127, 127, 127, 127,\n",
       "       127, 127, 127, 127, 127, 127, 127, 127, 127, 127, 127, 127, 127,\n",
       "       127, 127, 127, 127, 127, 127, 127, 127, 127, 127, 127, 127, 127,\n",
       "       127, 127, 127, 127, 127, 127, 127, 127, 127, 127, 127, 127, 127,\n",
       "       127, 127, 127, 127, 127, 127, 127, 127, 127])"
      ]
     },
     "execution_count": 33,
     "metadata": {},
     "output_type": "execute_result"
    }
   ],
   "source": [
    "mask_BatA # we can start with the most general case where we include all pumps, if it's too computationally heavy then we can remove this."
   ]
  },
  {
   "cell_type": "code",
   "execution_count": 34,
   "id": "apart-ancient",
   "metadata": {},
   "outputs": [
    {
     "data": {
      "text/plain": [
       "256"
      ]
     },
     "execution_count": 34,
     "metadata": {},
     "output_type": "execute_result"
    }
   ],
   "source": [
    "len(mask_BatA) # Nummodes//2 = pump location"
   ]
  },
  {
   "cell_type": "code",
   "execution_count": 35,
   "id": "educated-subsection",
   "metadata": {},
   "outputs": [
    {
     "data": {
      "text/plain": [
       "66"
      ]
     },
     "execution_count": 35,
     "metadata": {},
     "output_type": "execute_result"
    }
   ],
   "source": [
    "mask_AatB[128//2]"
   ]
  },
  {
   "cell_type": "code",
   "execution_count": 36,
   "id": "daily-content",
   "metadata": {},
   "outputs": [],
   "source": [
    "ΔA = A.ωarr_adjusted-B.ωarr_adjusted[mask_BatA]"
   ]
  },
  {
   "cell_type": "code",
   "execution_count": 40,
   "id": "suited-letter",
   "metadata": {},
   "outputs": [
    {
     "data": {
      "text/plain": [
       "0.0"
      ]
     },
     "execution_count": 40,
     "metadata": {},
     "output_type": "execute_result"
    }
   ],
   "source": [
    "ΔA[63]"
   ]
  },
  {
   "cell_type": "code",
   "execution_count": 41,
   "id": "quality-missouri",
   "metadata": {},
   "outputs": [],
   "source": [
    "ΔB = B.ωarr_adjusted-A.ωarr_adjusted[mask_AatB]"
   ]
  },
  {
   "cell_type": "code",
   "execution_count": 44,
   "id": "korean-hamilton",
   "metadata": {},
   "outputs": [
    {
     "data": {
      "text/plain": [
       "0.0"
      ]
     },
     "execution_count": 44,
     "metadata": {},
     "output_type": "execute_result"
    }
   ],
   "source": [
    "ΔB[B.Nmodes//2-mode_offset]"
   ]
  },
  {
   "cell_type": "code",
   "execution_count": 45,
   "id": "czech-pickup",
   "metadata": {},
   "outputs": [
    {
     "data": {
      "text/plain": [
       "0.0"
      ]
     },
     "execution_count": 45,
     "metadata": {},
     "output_type": "execute_result"
    }
   ],
   "source": [
    "B.fftshift(ΔB,B.idx)[0]"
   ]
  },
  {
   "cell_type": "code",
   "execution_count": 49,
   "id": "coordinate-rogers",
   "metadata": {},
   "outputs": [],
   "source": [
    "ΦA = A.Dint_arr + A.fftshift(ΔA,A.idx)"
   ]
  },
  {
   "cell_type": "code",
   "execution_count": 47,
   "id": "iraqi-strengthening",
   "metadata": {},
   "outputs": [
    {
     "data": {
      "text/plain": [
       "array([0., 0., 0., 0., 0., 0., 0., 0., 0., 0.])"
      ]
     },
     "execution_count": 47,
     "metadata": {},
     "output_type": "execute_result"
    }
   ],
   "source": [
    "np.linspace(0,0,10)"
   ]
  },
  {
   "cell_type": "code",
   "execution_count": 50,
   "id": "expanded-malaysia",
   "metadata": {},
   "outputs": [],
   "source": [
    "ΦB = B.Dint_arr + B.fftshift(ΔB,B.idx)"
   ]
  },
  {
   "cell_type": "code",
   "execution_count": 56,
   "id": "according-waste",
   "metadata": {},
   "outputs": [
    {
     "data": {
      "text/plain": [
       "300.12379732406725"
      ]
     },
     "execution_count": 56,
     "metadata": {},
     "output_type": "execute_result"
    }
   ],
   "source": [
    "B.Δωtot/1e6"
   ]
  },
  {
   "cell_type": "code",
   "execution_count": 63,
   "id": "suspended-birth",
   "metadata": {},
   "outputs": [
    {
     "data": {
      "text/plain": [
       "array([-8.42971262e+08,  0.00000000e+00])"
      ]
     },
     "execution_count": 63,
     "metadata": {},
     "output_type": "execute_result"
    }
   ],
   "source": [
    "ΔB[np.abs(ΔB)<(5*B.Δωtot)]"
   ]
  },
  {
   "cell_type": "code",
   "execution_count": 62,
   "id": "olive-seeking",
   "metadata": {},
   "outputs": [
    {
     "data": {
      "text/plain": [
       "(array([38, 54]),)"
      ]
     },
     "execution_count": 62,
     "metadata": {},
     "output_type": "execute_result"
    }
   ],
   "source": [
    "np.where(np.abs(ΔB)<(5*B.Δωtot))"
   ]
  },
  {
   "cell_type": "code",
   "execution_count": 64,
   "id": "opposed-runner",
   "metadata": {},
   "outputs": [],
   "source": [
    "mask = np.abs(ΔB)<(5*B.Δωtot)"
   ]
  },
  {
   "cell_type": "code",
   "execution_count": 73,
   "id": "running-nudist",
   "metadata": {
    "collapsed": true,
    "jupyter": {
     "outputs_hidden": true
    }
   },
   "outputs": [
    {
     "data": {
      "text/plain": [
       "array([ 0.00000000e+00,  0.00000000e+00,  0.00000000e+00,  0.00000000e+00,\n",
       "        0.00000000e+00,  0.00000000e+00,  0.00000000e+00,  0.00000000e+00,\n",
       "        0.00000000e+00,  0.00000000e+00,  0.00000000e+00,  0.00000000e+00,\n",
       "        0.00000000e+00,  0.00000000e+00,  0.00000000e+00,  0.00000000e+00,\n",
       "        0.00000000e+00,  0.00000000e+00,  0.00000000e+00,  0.00000000e+00,\n",
       "        0.00000000e+00,  0.00000000e+00,  0.00000000e+00,  0.00000000e+00,\n",
       "        0.00000000e+00,  0.00000000e+00,  0.00000000e+00,  0.00000000e+00,\n",
       "        0.00000000e+00,  0.00000000e+00,  0.00000000e+00,  0.00000000e+00,\n",
       "        0.00000000e+00,  0.00000000e+00,  0.00000000e+00,  0.00000000e+00,\n",
       "        0.00000000e+00,  0.00000000e+00, -8.42971262e+08,  0.00000000e+00,\n",
       "        0.00000000e+00,  0.00000000e+00,  0.00000000e+00,  0.00000000e+00,\n",
       "        0.00000000e+00,  0.00000000e+00,  0.00000000e+00,  0.00000000e+00,\n",
       "        0.00000000e+00,  0.00000000e+00,  0.00000000e+00,  0.00000000e+00,\n",
       "        0.00000000e+00,  0.00000000e+00,  0.00000000e+00,  0.00000000e+00,\n",
       "        0.00000000e+00,  0.00000000e+00,  0.00000000e+00,  0.00000000e+00,\n",
       "        0.00000000e+00,  0.00000000e+00,  0.00000000e+00,  0.00000000e+00,\n",
       "        0.00000000e+00,  0.00000000e+00,  0.00000000e+00,  0.00000000e+00,\n",
       "        0.00000000e+00,  0.00000000e+00,  0.00000000e+00,  0.00000000e+00,\n",
       "        0.00000000e+00,  0.00000000e+00,  0.00000000e+00,  0.00000000e+00,\n",
       "        0.00000000e+00,  0.00000000e+00,  0.00000000e+00,  0.00000000e+00,\n",
       "        0.00000000e+00,  0.00000000e+00,  0.00000000e+00,  0.00000000e+00,\n",
       "        0.00000000e+00,  0.00000000e+00,  0.00000000e+00,  0.00000000e+00,\n",
       "        0.00000000e+00,  0.00000000e+00,  0.00000000e+00,  0.00000000e+00,\n",
       "        0.00000000e+00,  0.00000000e+00,  0.00000000e+00,  0.00000000e+00,\n",
       "        0.00000000e+00,  0.00000000e+00,  0.00000000e+00,  0.00000000e+00,\n",
       "        0.00000000e+00,  0.00000000e+00,  0.00000000e+00,  0.00000000e+00,\n",
       "        0.00000000e+00,  0.00000000e+00,  0.00000000e+00,  0.00000000e+00,\n",
       "        0.00000000e+00,  0.00000000e+00,  0.00000000e+00,  0.00000000e+00,\n",
       "        0.00000000e+00,  0.00000000e+00,  0.00000000e+00,  0.00000000e+00,\n",
       "        0.00000000e+00,  0.00000000e+00,  0.00000000e+00,  0.00000000e+00,\n",
       "        0.00000000e+00,  0.00000000e+00,  0.00000000e+00,  0.00000000e+00,\n",
       "        0.00000000e+00,  0.00000000e+00,  0.00000000e+00,  0.00000000e+00])"
      ]
     },
     "execution_count": 73,
     "metadata": {},
     "output_type": "execute_result"
    }
   ],
   "source": [
    "ΔB*mask+1-1"
   ]
  },
  {
   "cell_type": "code",
   "execution_count": 80,
   "id": "macro-horror",
   "metadata": {},
   "outputs": [
    {
     "data": {
      "text/plain": [
       "array([-8.42971262e+08,  0.00000000e+00])"
      ]
     },
     "execution_count": 80,
     "metadata": {},
     "output_type": "execute_result"
    }
   ],
   "source": [
    "ΔB[mask]"
   ]
  },
  {
   "cell_type": "code",
   "execution_count": null,
   "id": "foster-auditor",
   "metadata": {},
   "outputs": [],
   "source": []
  }
 ],
 "metadata": {
  "kernelspec": {
   "display_name": "Python 3",
   "language": "python",
   "name": "python3"
  },
  "language_info": {
   "codemirror_mode": {
    "name": "ipython",
    "version": 3
   },
   "file_extension": ".py",
   "mimetype": "text/x-python",
   "name": "python",
   "nbconvert_exporter": "python",
   "pygments_lexer": "ipython3",
   "version": "3.8.5"
  }
 },
 "nbformat": 4,
 "nbformat_minor": 5
}
