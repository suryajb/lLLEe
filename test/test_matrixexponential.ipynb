{
 "cells": [
  {
   "cell_type": "code",
   "execution_count": 32,
   "id": "express-compatibility",
   "metadata": {},
   "outputs": [],
   "source": [
    "import numpy as np\n",
    "from scipy.linalg import expm, sinm, cosm\n",
    "from scipy.sparse import csc_matrix\n",
    "from scipy.sparse.linalg import expm as sexpm"
   ]
  },
  {
   "cell_type": "code",
   "execution_count": 8,
   "id": "casual-blade",
   "metadata": {},
   "outputs": [
    {
     "data": {
      "text/plain": [
       "array([[1., 0.],\n",
       "       [0., 1.]])"
      ]
     },
     "execution_count": 8,
     "metadata": {},
     "output_type": "execute_result"
    }
   ],
   "source": [
    "expm(np.zeros((2,2)))"
   ]
  },
  {
   "cell_type": "code",
   "execution_count": 13,
   "id": "presidential-intersection",
   "metadata": {},
   "outputs": [
    {
     "data": {
      "text/plain": [
       "array([[1., 0., 0., 0., 0.],\n",
       "       [0., 1., 0., 0., 0.],\n",
       "       [0., 0., 1., 0., 0.],\n",
       "       [0., 0., 0., 1., 0.],\n",
       "       [0., 0., 0., 0., 1.]])"
      ]
     },
     "execution_count": 13,
     "metadata": {},
     "output_type": "execute_result"
    }
   ],
   "source": [
    "np.diag(np.ones((5)))"
   ]
  },
  {
   "cell_type": "code",
   "execution_count": 14,
   "id": "distributed-might",
   "metadata": {},
   "outputs": [
    {
     "data": {
      "text/plain": [
       "array([[1., 0., 0., 1., 1.],\n",
       "       [0., 1., 0., 1., 1.],\n",
       "       [0., 0., 1., 0., 0.],\n",
       "       [1., 1., 0., 1., 0.],\n",
       "       [1., 1., 0., 0., 1.]])"
      ]
     },
     "execution_count": 14,
     "metadata": {},
     "output_type": "execute_result"
    }
   ],
   "source": [
    "np.array([[1., 0., 0., 1., 1.],\n",
    "          [0., 1., 0., 1., 1.],\n",
    "          [0., 0., 1., 0., 0.],\n",
    "          [1., 1., 0., 1., 0.],\n",
    "          [1., 1., 0., 0., 1.]])"
   ]
  },
  {
   "cell_type": "code",
   "execution_count": 21,
   "id": "plastic-target",
   "metadata": {},
   "outputs": [
    {
     "data": {
      "text/plain": [
       "array([[7.09869007, 4.38040824, 4.38040824, 6.37880464, 6.37880464],\n",
       "       [4.38040824, 7.09869007, 4.38040824, 6.37880464, 6.37880464],\n",
       "       [4.38040824, 4.38040824, 7.09869007, 6.37880464, 6.37880464],\n",
       "       [6.37880464, 6.37880464, 6.37880464, 9.28889419, 6.57061236],\n",
       "       [6.37880464, 6.37880464, 6.37880464, 6.57061236, 9.28889419]])"
      ]
     },
     "execution_count": 21,
     "metadata": {},
     "output_type": "execute_result"
    }
   ],
   "source": [
    "expm(np.array([[1., 0., 0., 1., 1.],\n",
    "               [0., 1., 0., 1., 1.],\n",
    "               [0., 0., 1., 1., 1.],\n",
    "               [1., 1., 1., 1., 0.],\n",
    "               [1., 1., 1., 0., 1.]]))"
   ]
  },
  {
   "cell_type": "code",
   "execution_count": 30,
   "id": "waiting-daughter",
   "metadata": {},
   "outputs": [
    {
     "data": {
      "text/plain": [
       "array([1., 1., 1., 1., 1.])"
      ]
     },
     "execution_count": 30,
     "metadata": {},
     "output_type": "execute_result"
    }
   ],
   "source": [
    "np.ones(5)"
   ]
  },
  {
   "cell_type": "code",
   "execution_count": 18,
   "id": "tutorial-funds",
   "metadata": {},
   "outputs": [
    {
     "data": {
      "text/plain": [
       "array([[4.19452805, 0.        , 0.        , 3.19452805, 0.        ],\n",
       "       [0.        , 4.19452805, 0.        , 0.        , 3.19452805],\n",
       "       [0.        , 0.        , 2.71828183, 0.        , 0.        ],\n",
       "       [3.19452805, 0.        , 0.        , 4.19452805, 0.        ],\n",
       "       [0.        , 3.19452805, 0.        , 0.        , 4.19452805]])"
      ]
     },
     "execution_count": 18,
     "metadata": {},
     "output_type": "execute_result"
    }
   ],
   "source": [
    "expm(np.array([[1., 0., 0., 1., 0.],\n",
    "               [0., 1., 0., 0., 1.],\n",
    "               [0., 0., 1., 0., 0.],\n",
    "               [1., 0., 0., 1., 0.],\n",
    "               [0., 1., 0., 0., 1.]]))"
   ]
  },
  {
   "cell_type": "code",
   "execution_count": 28,
   "id": "retired-investigation",
   "metadata": {},
   "outputs": [
    {
     "name": "stdout",
     "output_type": "stream",
     "text": [
      "17.7 ms ± 2.51 ms per loop (mean ± std. dev. of 7 runs, 10 loops each)\n"
     ]
    }
   ],
   "source": [
    "%timeit expm(np.diag(np.ones((500)))) # expm does not handle diagonal matrices differently"
   ]
  },
  {
   "cell_type": "code",
   "execution_count": 29,
   "id": "excessive-execution",
   "metadata": {},
   "outputs": [
    {
     "name": "stdout",
     "output_type": "stream",
     "text": [
      "5.02 µs ± 32.5 ns per loop (mean ± std. dev. of 7 runs, 100000 loops each)\n"
     ]
    }
   ],
   "source": [
    "%timeit np.exp(np.ones((500)))"
   ]
  },
  {
   "cell_type": "code",
   "execution_count": 35,
   "id": "egyptian-conversation",
   "metadata": {},
   "outputs": [
    {
     "name": "stdout",
     "output_type": "stream",
     "text": [
      "195 µs ± 694 ns per loop (mean ± std. dev. of 7 runs, 10000 loops each)\n"
     ]
    }
   ],
   "source": [
    "%timeit sexpm(np.array([[1., 0., 0., 1., 1.],[0., 1., 0., 1., 1.],[0., 0., 1., 1., 1.],[1., 1., 1., 1., 0.],[1., 1., 1., 0., 1.]]))"
   ]
  },
  {
   "cell_type": "code",
   "execution_count": 36,
   "id": "understanding-france",
   "metadata": {},
   "outputs": [
    {
     "name": "stdout",
     "output_type": "stream",
     "text": [
      "206 µs ± 2.11 µs per loop (mean ± std. dev. of 7 runs, 1000 loops each)\n"
     ]
    }
   ],
   "source": [
    "%timeit expm(np.array([[1., 0., 0., 1., 1.],[0., 1., 0., 1., 1.],[0., 0., 1., 1., 1.],[1., 1., 1., 1., 0.],[1., 1., 1., 0., 1.]]))"
   ]
  },
  {
   "cell_type": "code",
   "execution_count": 40,
   "id": "palestinian-approach",
   "metadata": {},
   "outputs": [
    {
     "name": "stdout",
     "output_type": "stream",
     "text": [
      "2.47 µs ± 11.9 ns per loop (mean ± std. dev. of 7 runs, 100000 loops each)\n"
     ]
    }
   ],
   "source": [
    "%timeit a = np.exp(np.ones(10))"
   ]
  },
  {
   "cell_type": "code",
   "execution_count": 39,
   "id": "consistent-adoption",
   "metadata": {},
   "outputs": [
    {
     "name": "stdout",
     "output_type": "stream",
     "text": [
      "4.87 µs ± 9.32 ns per loop (mean ± std. dev. of 7 runs, 100000 loops each)\n"
     ]
    }
   ],
   "source": [
    "%timeit a,b=np.exp(np.ones(5)),np.exp(np.ones(5))"
   ]
  },
  {
   "cell_type": "code",
   "execution_count": null,
   "id": "harmful-pasta",
   "metadata": {},
   "outputs": [],
   "source": [
    "# test matrix multiplication speed"
   ]
  },
  {
   "cell_type": "code",
   "execution_count": 44,
   "id": "rolled-interface",
   "metadata": {},
   "outputs": [
    {
     "name": "stdout",
     "output_type": "stream",
     "text": [
      "60.1 µs ± 90.9 ns per loop (mean ± std. dev. of 7 runs, 10000 loops each)\n"
     ]
    }
   ],
   "source": [
    "%timeit np.zeros((500,500))@np.ones(500)"
   ]
  },
  {
   "cell_type": "code",
   "execution_count": 67,
   "id": "generic-heart",
   "metadata": {},
   "outputs": [],
   "source": [
    "a = [1]\n",
    "b = [2]\n",
    "c = [3]\n",
    "mat = [a,b,c]"
   ]
  },
  {
   "cell_type": "code",
   "execution_count": 68,
   "id": "adult-stage",
   "metadata": {},
   "outputs": [],
   "source": [
    "def func(a,b,c):\n",
    "    a[0],b[0],c[0]=4,5,6\n",
    "    return a,b,c"
   ]
  },
  {
   "cell_type": "code",
   "execution_count": 70,
   "id": "remarkable-russian",
   "metadata": {},
   "outputs": [
    {
     "data": {
      "text/plain": [
       "([4], [5], [6])"
      ]
     },
     "execution_count": 70,
     "metadata": {},
     "output_type": "execute_result"
    }
   ],
   "source": [
    "func(a,b,c)"
   ]
  },
  {
   "cell_type": "code",
   "execution_count": 71,
   "id": "universal-ireland",
   "metadata": {},
   "outputs": [
    {
     "data": {
      "text/plain": [
       "[[4], [5], [6]]"
      ]
     },
     "execution_count": 71,
     "metadata": {},
     "output_type": "execute_result"
    }
   ],
   "source": [
    "mat"
   ]
  },
  {
   "cell_type": "code",
   "execution_count": 72,
   "id": "novel-jamaica",
   "metadata": {},
   "outputs": [],
   "source": [
    "z = [1]"
   ]
  },
  {
   "cell_type": "code",
   "execution_count": 73,
   "id": "introductory-characterization",
   "metadata": {},
   "outputs": [],
   "source": [
    "x = z"
   ]
  },
  {
   "cell_type": "code",
   "execution_count": 75,
   "id": "serious-toner",
   "metadata": {},
   "outputs": [],
   "source": [
    "x[0] = 5"
   ]
  },
  {
   "cell_type": "code",
   "execution_count": 76,
   "id": "expensive-skating",
   "metadata": {},
   "outputs": [
    {
     "data": {
      "text/plain": [
       "[5]"
      ]
     },
     "execution_count": 76,
     "metadata": {},
     "output_type": "execute_result"
    }
   ],
   "source": [
    "x"
   ]
  },
  {
   "cell_type": "code",
   "execution_count": 77,
   "id": "younger-decrease",
   "metadata": {},
   "outputs": [
    {
     "data": {
      "text/plain": [
       "[5]"
      ]
     },
     "execution_count": 77,
     "metadata": {},
     "output_type": "execute_result"
    }
   ],
   "source": [
    "z"
   ]
  },
  {
   "cell_type": "code",
   "execution_count": 98,
   "id": "normal-efficiency",
   "metadata": {},
   "outputs": [],
   "source": [
    "ψb = np.array([1,2,3,4,5,6,7,8,9,0])"
   ]
  },
  {
   "cell_type": "code",
   "execution_count": 90,
   "id": "unable-candle",
   "metadata": {},
   "outputs": [
    {
     "name": "stdout",
     "output_type": "stream",
     "text": [
      "927 ns ± 8.03 ns per loop (mean ± std. dev. of 7 runs, 1000000 loops each)\n"
     ]
    }
   ],
   "source": [
    "%timeit np.exp(ψb)"
   ]
  },
  {
   "cell_type": "code",
   "execution_count": 99,
   "id": "moved-surprise",
   "metadata": {},
   "outputs": [],
   "source": [
    "ψ = np.array([[1],[2],[3],[4],[5],[6],[7],[8],[9],[0]])"
   ]
  },
  {
   "cell_type": "code",
   "execution_count": 88,
   "id": "annual-method",
   "metadata": {},
   "outputs": [
    {
     "name": "stdout",
     "output_type": "stream",
     "text": [
      "1.08 µs ± 7.57 ns per loop (mean ± std. dev. of 7 runs, 1000000 loops each)\n"
     ]
    }
   ],
   "source": [
    "%timeit np.exp(ψ)"
   ]
  },
  {
   "cell_type": "code",
   "execution_count": 100,
   "id": "activated-nepal",
   "metadata": {},
   "outputs": [],
   "source": [
    "ψref = [ψ[0],ψ[1]]"
   ]
  },
  {
   "cell_type": "code",
   "execution_count": 101,
   "id": "capable-table",
   "metadata": {},
   "outputs": [
    {
     "data": {
      "text/plain": [
       "[array([1]), array([2])]"
      ]
     },
     "execution_count": 101,
     "metadata": {},
     "output_type": "execute_result"
    }
   ],
   "source": [
    "ψref"
   ]
  },
  {
   "cell_type": "code",
   "execution_count": 102,
   "id": "coordinated-print",
   "metadata": {},
   "outputs": [],
   "source": [
    "ψ[0][0] = 12 \n",
    "ψ[1][0] = 13"
   ]
  },
  {
   "cell_type": "code",
   "execution_count": 103,
   "id": "unauthorized-milwaukee",
   "metadata": {},
   "outputs": [
    {
     "data": {
      "text/plain": [
       "[array([12]), array([13])]"
      ]
     },
     "execution_count": 103,
     "metadata": {},
     "output_type": "execute_result"
    }
   ],
   "source": [
    "ψref"
   ]
  },
  {
   "cell_type": "code",
   "execution_count": 104,
   "id": "incredible-scanner",
   "metadata": {},
   "outputs": [
    {
     "data": {
      "text/plain": [
       "array([[12],\n",
       "       [13],\n",
       "       [ 3],\n",
       "       [ 4],\n",
       "       [ 5],\n",
       "       [ 6],\n",
       "       [ 7],\n",
       "       [ 8],\n",
       "       [ 9],\n",
       "       [ 0]])"
      ]
     },
     "execution_count": 104,
     "metadata": {},
     "output_type": "execute_result"
    }
   ],
   "source": [
    "ψ"
   ]
  },
  {
   "cell_type": "code",
   "execution_count": 105,
   "id": "solved-fitness",
   "metadata": {},
   "outputs": [
    {
     "data": {
      "text/plain": [
       "array([[162754.791419  ],\n",
       "       [442413.39200892]])"
      ]
     },
     "execution_count": 105,
     "metadata": {},
     "output_type": "execute_result"
    }
   ],
   "source": [
    "np.exp(ψref)"
   ]
  },
  {
   "cell_type": "code",
   "execution_count": null,
   "id": "intimate-hybrid",
   "metadata": {},
   "outputs": [],
   "source": []
  }
 ],
 "metadata": {
  "kernelspec": {
   "display_name": "Python 3",
   "language": "python",
   "name": "python3"
  },
  "language_info": {
   "codemirror_mode": {
    "name": "ipython",
    "version": 3
   },
   "file_extension": ".py",
   "mimetype": "text/x-python",
   "name": "python",
   "nbconvert_exporter": "python",
   "pygments_lexer": "ipython3",
   "version": "3.8.5"
  }
 },
 "nbformat": 4,
 "nbformat_minor": 5
}
