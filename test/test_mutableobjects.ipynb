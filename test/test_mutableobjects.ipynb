{
 "cells": [
  {
   "cell_type": "code",
   "execution_count": 1,
   "id": "civic-agriculture",
   "metadata": {},
   "outputs": [],
   "source": [
    "import numpy as np"
   ]
  },
  {
   "cell_type": "code",
   "execution_count": 2,
   "id": "traditional-summer",
   "metadata": {},
   "outputs": [],
   "source": [
    "a = [1]\n",
    "b = [2]\n",
    "c = [3]\n",
    "mat = [a,b,c]"
   ]
  },
  {
   "cell_type": "code",
   "execution_count": 3,
   "id": "nervous-census",
   "metadata": {},
   "outputs": [],
   "source": [
    "def func(a,b,c):\n",
    "    a[0],b[0],c[0]=4,5,6\n",
    "    return a,b,c"
   ]
  },
  {
   "cell_type": "code",
   "execution_count": 4,
   "id": "previous-chemistry",
   "metadata": {},
   "outputs": [
    {
     "data": {
      "text/plain": [
       "([4], [5], [6])"
      ]
     },
     "execution_count": 4,
     "metadata": {},
     "output_type": "execute_result"
    }
   ],
   "source": [
    "func(a,b,c)"
   ]
  },
  {
   "cell_type": "code",
   "execution_count": 5,
   "id": "brave-discharge",
   "metadata": {},
   "outputs": [
    {
     "data": {
      "text/plain": [
       "[[4], [5], [6]]"
      ]
     },
     "execution_count": 5,
     "metadata": {},
     "output_type": "execute_result"
    }
   ],
   "source": [
    "mat"
   ]
  },
  {
   "cell_type": "code",
   "execution_count": 6,
   "id": "identified-teens",
   "metadata": {},
   "outputs": [],
   "source": [
    "z = [1]"
   ]
  },
  {
   "cell_type": "code",
   "execution_count": 7,
   "id": "concrete-python",
   "metadata": {},
   "outputs": [],
   "source": [
    "x = z"
   ]
  },
  {
   "cell_type": "code",
   "execution_count": 8,
   "id": "nearby-survivor",
   "metadata": {},
   "outputs": [],
   "source": [
    "x[0] = 5"
   ]
  },
  {
   "cell_type": "code",
   "execution_count": 9,
   "id": "packed-sunset",
   "metadata": {},
   "outputs": [
    {
     "data": {
      "text/plain": [
       "[5]"
      ]
     },
     "execution_count": 9,
     "metadata": {},
     "output_type": "execute_result"
    }
   ],
   "source": [
    "x"
   ]
  },
  {
   "cell_type": "code",
   "execution_count": 10,
   "id": "common-preparation",
   "metadata": {},
   "outputs": [
    {
     "data": {
      "text/plain": [
       "[5]"
      ]
     },
     "execution_count": 10,
     "metadata": {},
     "output_type": "execute_result"
    }
   ],
   "source": [
    "z"
   ]
  },
  {
   "cell_type": "code",
   "execution_count": 47,
   "id": "hollow-title",
   "metadata": {},
   "outputs": [],
   "source": [
    "ψb = np.array([1,2,3,4,5,6,7,8,9,0])"
   ]
  },
  {
   "cell_type": "code",
   "execution_count": 12,
   "id": "collectible-alloy",
   "metadata": {},
   "outputs": [
    {
     "name": "stdout",
     "output_type": "stream",
     "text": [
      "852 ns ± 11.6 ns per loop (mean ± std. dev. of 7 runs, 1000000 loops each)\n"
     ]
    }
   ],
   "source": [
    "%timeit np.exp(ψb)"
   ]
  },
  {
   "cell_type": "code",
   "execution_count": 48,
   "id": "portable-coffee",
   "metadata": {},
   "outputs": [],
   "source": [
    "ψ = np.array([[1],[2],[3],[4],[5],[6],[7],[8],[9],[0]])"
   ]
  },
  {
   "cell_type": "code",
   "execution_count": 14,
   "id": "involved-orange",
   "metadata": {},
   "outputs": [
    {
     "name": "stdout",
     "output_type": "stream",
     "text": [
      "1.05 µs ± 5.64 ns per loop (mean ± std. dev. of 7 runs, 1000000 loops each)\n"
     ]
    }
   ],
   "source": [
    "%timeit np.exp(ψ)"
   ]
  },
  {
   "cell_type": "code",
   "execution_count": 49,
   "id": "excessive-pilot",
   "metadata": {},
   "outputs": [
    {
     "data": {
      "text/plain": [
       "array([1])"
      ]
     },
     "execution_count": 49,
     "metadata": {},
     "output_type": "execute_result"
    }
   ],
   "source": [
    "ψ[0]"
   ]
  },
  {
   "cell_type": "code",
   "execution_count": 50,
   "id": "eight-climb",
   "metadata": {},
   "outputs": [],
   "source": [
    "ψref = [ψ[0],ψ[1],ψ[2],ψ[3],ψ[4],ψ[5],ψ[6],ψ[7],ψ[8],ψ[9]]"
   ]
  },
  {
   "cell_type": "code",
   "execution_count": 51,
   "id": "alert-extension",
   "metadata": {},
   "outputs": [
    {
     "data": {
      "text/plain": [
       "[array([1]),\n",
       " array([2]),\n",
       " array([3]),\n",
       " array([4]),\n",
       " array([5]),\n",
       " array([6]),\n",
       " array([7]),\n",
       " array([8]),\n",
       " array([9]),\n",
       " array([0])]"
      ]
     },
     "execution_count": 51,
     "metadata": {},
     "output_type": "execute_result"
    }
   ],
   "source": [
    "ψref"
   ]
  },
  {
   "cell_type": "code",
   "execution_count": 52,
   "id": "valuable-retention",
   "metadata": {},
   "outputs": [],
   "source": [
    "ψ[0][0] = 12 \n",
    "ψ[1][0] = 13"
   ]
  },
  {
   "cell_type": "code",
   "execution_count": 55,
   "id": "entertaining-cycle",
   "metadata": {},
   "outputs": [
    {
     "name": "stdout",
     "output_type": "stream",
     "text": [
      "4.76 µs ± 36.2 ns per loop (mean ± std. dev. of 7 runs, 100000 loops each)\n"
     ]
    }
   ],
   "source": [
    "%timeit np.exp(ψref)"
   ]
  },
  {
   "cell_type": "code",
   "execution_count": 56,
   "id": "separate-drain",
   "metadata": {},
   "outputs": [
    {
     "name": "stdout",
     "output_type": "stream",
     "text": [
      "1.04 µs ± 4.66 ns per loop (mean ± std. dev. of 7 runs, 1000000 loops each)\n"
     ]
    }
   ],
   "source": [
    "%timeit np.exp(ψ)"
   ]
  },
  {
   "cell_type": "markdown",
   "id": "revolutionary-welcome",
   "metadata": {},
   "source": [
    "NEW"
   ]
  },
  {
   "cell_type": "code",
   "execution_count": 58,
   "id": "basic-bahrain",
   "metadata": {},
   "outputs": [],
   "source": [
    "ψb = np.array([1, 2, 3, 4, 5, 6, 7, 8, 9, 0])"
   ]
  },
  {
   "cell_type": "code",
   "execution_count": 59,
   "id": "purple-motor",
   "metadata": {},
   "outputs": [],
   "source": [
    "ψc = ψb"
   ]
  },
  {
   "cell_type": "code",
   "execution_count": 64,
   "id": "official-wiring",
   "metadata": {},
   "outputs": [],
   "source": [
    "ψb[0] = 15"
   ]
  },
  {
   "cell_type": "code",
   "execution_count": 66,
   "id": "toxic-theory",
   "metadata": {},
   "outputs": [],
   "source": [
    "mask = [0,0,2,4]"
   ]
  },
  {
   "cell_type": "code",
   "execution_count": 67,
   "id": "honest-monroe",
   "metadata": {},
   "outputs": [
    {
     "data": {
      "text/plain": [
       "array([15, 15,  3,  5])"
      ]
     },
     "execution_count": 67,
     "metadata": {},
     "output_type": "execute_result"
    }
   ],
   "source": [
    "ψc[mask]"
   ]
  },
  {
   "cell_type": "code",
   "execution_count": null,
   "id": "offshore-promotion",
   "metadata": {},
   "outputs": [],
   "source": []
  }
 ],
 "metadata": {
  "kernelspec": {
   "display_name": "Python 3",
   "language": "python",
   "name": "python3"
  },
  "language_info": {
   "codemirror_mode": {
    "name": "ipython",
    "version": 3
   },
   "file_extension": ".py",
   "mimetype": "text/x-python",
   "name": "python",
   "nbconvert_exporter": "python",
   "pygments_lexer": "ipython3",
   "version": "3.8.5"
  }
 },
 "nbformat": 4,
 "nbformat_minor": 5
}
