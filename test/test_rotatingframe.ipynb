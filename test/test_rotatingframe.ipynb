{
 "cells": [
  {
   "cell_type": "code",
   "execution_count": 2,
   "id": "amino-cutting",
   "metadata": {},
   "outputs": [],
   "source": [
    "import pandas as pd\n",
    "import glob\n",
    "import os\n",
    "from matplotlib import pyplot as plt\n",
    "import pandas as pd\n",
    "import numpy as np\n",
    "from scipy import signal\n",
    "import pdb\n",
    "import time\n",
    "import calendar\n",
    "import pyfftw\n",
    "from tqdm.notebook import tqdm\n",
    "from comb_utils import *"
   ]
  },
  {
   "cell_type": "code",
   "execution_count": 5,
   "id": "therapeutic-novelty",
   "metadata": {},
   "outputs": [],
   "source": [
    "from scipy.integrate import ode\n",
    "from scipy.integrate import solve_ivp as solve\n",
    "from scipy.integrate import BDF"
   ]
  },
  {
   "cell_type": "code",
   "execution_count": 4,
   "id": "informed-reach",
   "metadata": {},
   "outputs": [
    {
     "name": "stdout",
     "output_type": "stream",
     "text": [
      "ω_start = 193.4160363481703 THz, ω_end = 193.41216805838968 THz\n",
      "λ_start = 1549.9876000991992 nm, λ_end = 1550.0186002232026 nm\n",
      "normalized detunings = [ -8 , 12 ] (relevant parameters: δnorm_range)\n",
      "sweep speed (ω space) = 386828.97806249995 GHz/s \n",
      "sweep speed (λ space) = 3100.0124003302817 nm/s\n",
      "real time = 1e-05, normalized time = 1934.1448903225807 (relevant parameters: total_time), dt = 0.0005\n",
      "Simulation points = 257885985.0 (relevant parameters: dt)\n",
      "detuning at start = -1.54731591225 GHz, detuning at end = 2.320973868375 GHz (relevant parametes: ω_range, λ_range)\n",
      "Dint is a polynomial of order 8.\n",
      "g0 = 0.42497332143241495, Veff = 8.670795723907829e-16, F^2 = 17.728362327879115\n"
     ]
    },
    {
     "data": {
      "image/png": "[encoded data removed]",
      "text/plain": [
       "<Figure size 288x144 with 1 Axes>"
      ]
     },
     "metadata": {
      "needs_background": "light"
     },
     "output_type": "display_data"
    }
   ],
   "source": [
    "A = microring()"
   ]
  },
  {
   "cell_type": "code",
   "execution_count": 6,
   "id": "grateful-planner",
   "metadata": {},
   "outputs": [
    {
     "data": {
      "text/plain": [
       "0.2"
      ]
     },
     "execution_count": 6,
     "metadata": {},
     "output_type": "execute_result"
    }
   ],
   "source": [
    "A.pump"
   ]
  },
  {
   "cell_type": "code",
   "execution_count": 10,
   "id": "european-point",
   "metadata": {},
   "outputs": [
    {
     "data": {
      "text/plain": [
       "0.0"
      ]
     },
     "execution_count": 10,
     "metadata": {},
     "output_type": "execute_result"
    }
   ],
   "source": [
    "y0"
   ]
  },
  {
   "cell_type": "code",
   "execution_count": 134,
   "id": "norman-brunei",
   "metadata": {},
   "outputs": [
    {
     "data": {
      "text/plain": [
       "96707244.51612903"
      ]
     },
     "execution_count": 134,
     "metadata": {},
     "output_type": "execute_result"
    }
   ],
   "source": [
    "A.Δωtot/4"
   ]
  },
  {
   "cell_type": "code",
   "execution_count": 277,
   "id": "offshore-romantic",
   "metadata": {},
   "outputs": [
    {
     "data": {
      "text/plain": [
       "[<matplotlib.lines.Line2D at 0x7f0883ebff70>]"
      ]
     },
     "execution_count": 277,
     "metadata": {},
     "output_type": "execute_result"
    },
    {
     "data": {
      "image/png": "[encoded data removed]",
      "text/plain": [
       "<Figure size 432x288 with 1 Axes>"
      ]
     },
     "metadata": {
      "needs_background": "light"
     },
     "output_type": "display_data"
    }
   ],
   "source": [
    "δ=A.Δωtot*0\n",
    "δ2 = A.Δωtot*100*0\n",
    "def dAdt(t,y):\n",
    "#     print(y,t)\n",
    "    imag = -1*A.Δωtot*y[0]-1j*(δ)*y[1]+np.sqrt(A.Δωext*2*A.pump/A.h/A.ω0)#+np.sqrt(A.Δωext*2*A.pump/A.h/A.ω0)*np.cos(t*δ2)#+np.sqrt(A.Δωext*2*A.pump/A.h/A.ω0)*np.exp(1j*(δ2))#A.ω0-A.ω0#-1j*(δ2)*y[1]\n",
    "    real = -1*A.Δωtot*y[1]-1j*(δ)*y[0]#+np.sqrt(A.Δωext*2*A.pump/A.h/A.ω0)*np.sin(t*δ2)#A.ω0-A.ω0\n",
    "    return [imag,real]\n",
    "y0,t0 = [0.0j,0.0],0\n",
    "# sol = solve(lambda t, y: dAdt(t,y,self.lasers,self.modes,l),(0,1e-8), y0=y0, method='LSODA')\n",
    "r = ode(dAdt).set_integrator('zvode', method='bdf')\n",
    "r.set_initial_value(y0, t0)\n",
    "t1 = 1e-7\n",
    "dt = 1e-11\n",
    "sol = []\n",
    "while r.successful() and r.t < t1:\n",
    "    sol.append(r.integrate(r.t+dt))\n",
    "plt.plot((np.abs(np.array(sol).sum(axis=1))**2))"
   ]
  },
  {
   "cell_type": "code",
   "execution_count": null,
   "id": "thorough-picture",
   "metadata": {},
   "outputs": [],
   "source": []
  },
  {
   "cell_type": "code",
   "execution_count": 167,
   "id": "figured-idaho",
   "metadata": {},
   "outputs": [],
   "source": []
  },
  {
   "cell_type": "code",
   "execution_count": 162,
   "id": "smooth-munich",
   "metadata": {},
   "outputs": [
    {
     "data": {
      "text/plain": [
       "<scipy.integrate._ode.ode at 0x7f0885a83250>"
      ]
     },
     "execution_count": 162,
     "metadata": {},
     "output_type": "execute_result"
    }
   ],
   "source": [
    "r.set_initial_value(y0, t0)#.set_f_params(2.0).set_jac_params(2.0)"
   ]
  },
  {
   "cell_type": "code",
   "execution_count": 163,
   "id": "literary-touch",
   "metadata": {},
   "outputs": [],
   "source": [
    "t1 = 1e-7\n",
    "dt = 1e-10\n",
    "sol = []\n",
    "while r.successful() and r.t < t1:\n",
    "    sol.append(r.integrate(r.t+dt))"
   ]
  },
  {
   "cell_type": "code",
   "execution_count": 164,
   "id": "accepted-prisoner",
   "metadata": {},
   "outputs": [
    {
     "data": {
      "text/plain": [
       "[<matplotlib.lines.Line2D at 0x7f0885a52a00>]"
      ]
     },
     "execution_count": 164,
     "metadata": {},
     "output_type": "execute_result"
    },
    {
     "data": {
      "image/png": "[encoded data removed]",
      "text/plain": [
       "<Figure size 432x288 with 1 Axes>"
      ]
     },
     "metadata": {
      "needs_background": "light"
     },
     "output_type": "display_data"
    }
   ],
   "source": [
    "plt.plot(np.abs(np.array(sol).sum(axis=1))**2)"
   ]
  },
  {
   "cell_type": "code",
   "execution_count": null,
   "id": "stone-thesaurus",
   "metadata": {},
   "outputs": [],
   "source": []
  }
 ],
 "metadata": {
  "kernelspec": {
   "display_name": "Python 3",
   "language": "python",
   "name": "python3"
  },
  "language_info": {
   "codemirror_mode": {
    "name": "ipython",
    "version": 3
   },
   "file_extension": ".py",
   "mimetype": "text/x-python",
   "name": "python",
   "nbconvert_exporter": "python",
   "pygments_lexer": "ipython3",
   "version": "3.8.5"
  }
 },
 "nbformat": 4,
 "nbformat_minor": 5
}
