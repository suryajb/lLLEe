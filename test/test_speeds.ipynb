{
 "cells": [
  {
   "cell_type": "code",
   "execution_count": 16,
   "id": "hired-design",
   "metadata": {},
   "outputs": [],
   "source": [
    "from comb_utils import *\n",
    "from coupled_rings import *\n",
    "import numba as nb"
   ]
  },
  {
   "cell_type": "code",
   "execution_count": 8,
   "id": "spare-board",
   "metadata": {},
   "outputs": [],
   "source": [
    "A = np.arange(1,512,1)"
   ]
  },
  {
   "cell_type": "code",
   "execution_count": 9,
   "id": "adequate-retreat",
   "metadata": {},
   "outputs": [],
   "source": [
    "A = A + 1"
   ]
  },
  {
   "cell_type": "code",
   "execution_count": 15,
   "id": "breathing-swing",
   "metadata": {},
   "outputs": [
    {
     "name": "stdout",
     "output_type": "stream",
     "text": [
      "CPU times: user 27 µs, sys: 0 ns, total: 27 µs\n",
      "Wall time: 30.5 µs\n"
     ]
    }
   ],
   "source": [
    "%time A += 1"
   ]
  },
  {
   "cell_type": "code",
   "execution_count": null,
   "id": "occupied-ballot",
   "metadata": {},
   "outputs": [],
   "source": []
  }
 ],
 "metadata": {
  "kernelspec": {
   "display_name": "Python 3",
   "language": "python",
   "name": "python3"
  },
  "language_info": {
   "codemirror_mode": {
    "name": "ipython",
    "version": 3
   },
   "file_extension": ".py",
   "mimetype": "text/x-python",
   "name": "python",
   "nbconvert_exporter": "python",
   "pygments_lexer": "ipython3",
   "version": "3.8.5"
  }
 },
 "nbformat": 4,
 "nbformat_minor": 5
}
